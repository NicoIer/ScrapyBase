{
 "cells": [
  {
   "cell_type": "code",
   "execution_count": 15,
   "metadata": {},
   "outputs": [],
   "source": [
    "import pandas as pd\n",
    "import os\n",
    "import sys\n",
    "import numpy as np\n",
    "import sqlalchemy\n",
    "import pymysql\n",
    "from sqlalchemy import create_engine\n",
    "import matplotlib.pyplot as plt\n",
    "import seaborn as sns"
   ]
  },
  {
   "cell_type": "markdown",
   "metadata": {},
   "source": [
    "# 从MySQL读取 表格信息"
   ]
  },
  {
   "cell_type": "code",
   "execution_count": 4,
   "metadata": {
    "pycharm": {
     "name": "#%%\n"
    }
   },
   "outputs": [],
   "source": [
    "host='114.116.48.59'\n",
    "port=3306\n",
    "user='nico'\n",
    "password='cj2441962996.'\n",
    "database='NicoDB'\n",
    "table_name='test_2'\n",
    "engine = create_engine(f'mysql+pymysql://{user}:{password}@{host}:{port}/{database}')\n",
    "connection = engine.connect()\n",
    "data = pd.read_sql_table(con=connection,table_name=table_name)"
   ]
  },
  {
   "cell_type": "markdown",
   "metadata": {},
   "source": [
    "# 做数据分析"
   ]
  },
  {
   "cell_type": "code",
   "execution_count": 24,
   "metadata": {
    "pycharm": {
     "name": "#%%\n"
    }
   },
   "outputs": [
    {
     "data": {
      "text/html": [
       "<div>\n",
       "<style scoped>\n",
       "    .dataframe tbody tr th:only-of-type {\n",
       "        vertical-align: middle;\n",
       "    }\n",
       "\n",
       "    .dataframe tbody tr th {\n",
       "        vertical-align: top;\n",
       "    }\n",
       "\n",
       "    .dataframe thead th {\n",
       "        text-align: right;\n",
       "    }\n",
       "</style>\n",
       "<table border=\"1\" class=\"dataframe\">\n",
       "  <thead>\n",
       "    <tr style=\"text-align: right;\">\n",
       "      <th></th>\n",
       "      <th>id</th>\n",
       "      <th>link</th>\n",
       "      <th>name</th>\n",
       "      <th>price</th>\n",
       "      <th>shop_name</th>\n",
       "      <th>append</th>\n",
       "      <th>bad</th>\n",
       "      <th>count</th>\n",
       "      <th>good</th>\n",
       "      <th>images</th>\n",
       "      <th>...</th>\n",
       "      <th>省力方便</th>\n",
       "      <th>过滤效果佳</th>\n",
       "      <th>口碑很好</th>\n",
       "      <th>即插即用</th>\n",
       "      <th>客厅适用</th>\n",
       "      <th>安装服务好</th>\n",
       "      <th>安装快速</th>\n",
       "      <th>振动柔和</th>\n",
       "      <th>能效节能</th>\n",
       "      <th>一物多用</th>\n",
       "    </tr>\n",
       "  </thead>\n",
       "  <tbody>\n",
       "    <tr>\n",
       "      <th>0</th>\n",
       "      <td>100019386660</td>\n",
       "      <td>https://item.jd.com/100019386660.html#comment</td>\n",
       "      <td>（GREE）1.5匹 云佳 新一级能效 变频冷暖 自清洁 壁挂式空调挂机KFR-35GW/N...</td>\n",
       "      <td>3199.00</td>\n",
       "      <td>格力京东自营旗舰店</td>\n",
       "      <td>26000</td>\n",
       "      <td>7100</td>\n",
       "      <td>1000000</td>\n",
       "      <td>720000</td>\n",
       "      <td>500</td>\n",
       "      <td>...</td>\n",
       "      <td>0</td>\n",
       "      <td>0</td>\n",
       "      <td>0</td>\n",
       "      <td>0</td>\n",
       "      <td>0</td>\n",
       "      <td>0</td>\n",
       "      <td>0</td>\n",
       "      <td>0</td>\n",
       "      <td>0</td>\n",
       "      <td>0</td>\n",
       "    </tr>\n",
       "  </tbody>\n",
       "</table>\n",
       "<p>1 rows × 144 columns</p>\n",
       "</div>"
      ],
      "text/plain": [
       "             id                                           link  \\\n",
       "0  100019386660  https://item.jd.com/100019386660.html#comment   \n",
       "\n",
       "                                                name    price  shop_name  \\\n",
       "0  （GREE）1.5匹 云佳 新一级能效 变频冷暖 自清洁 壁挂式空调挂机KFR-35GW/N...  3199.00  格力京东自营旗舰店   \n",
       "\n",
       "  append   bad    count    good images  ... 省力方便  过滤效果佳 口碑很好 即插即用 客厅适用 安装服务好  \\\n",
       "0  26000  7100  1000000  720000    500  ...    0      0    0    0    0     0   \n",
       "\n",
       "  安装快速 振动柔和 能效节能 一物多用  \n",
       "0    0    0    0    0  \n",
       "\n",
       "[1 rows x 144 columns]"
      ]
     },
     "execution_count": 24,
     "metadata": {},
     "output_type": "execute_result"
    }
   ],
   "source": [
    "data.head(1)"
   ]
  },
  {
   "cell_type": "code",
   "execution_count": 72,
   "metadata": {},
   "outputs": [],
   "source": [
    "# 发现数据有一点问题 price里居然有一个字符串叫price\n",
    "def price_prase(item:str):\n",
    "    if item == 'price':\n",
    "        return 0\n",
    "    else:\n",
    "        return float(item)\n",
    "def count_parse(item:str):\n",
    "    if item:\n",
    "        return int(item)\n",
    "    else:\n",
    "        return 0\n",
    "        "
   ]
  },
  {
   "cell_type": "code",
   "execution_count": 73,
   "metadata": {},
   "outputs": [],
   "source": [
    "data['price'] = data['price'].apply(price_prase)"
   ]
  },
  {
   "cell_type": "code",
   "execution_count": 74,
   "metadata": {},
   "outputs": [],
   "source": [
    "data['count'] = data['count'].apply(append_parse)"
   ]
  },
  {
   "cell_type": "code",
   "execution_count": 75,
   "metadata": {},
   "outputs": [],
   "source": [
    "processed_data = data.sort_values(by='price')"
   ]
  },
  {
   "cell_type": "markdown",
   "metadata": {},
   "source": [
    "## 首先观察总评价数量与价格的关系"
   ]
  },
  {
   "cell_type": "code",
   "execution_count": 88,
   "metadata": {
    "pycharm": {
     "name": "#%%\n"
    }
   },
   "outputs": [],
   "source": [
    "price = processed_data['price']\n",
    "count = processed_data['count']"
   ]
  },
  {
   "cell_type": "code",
   "execution_count": 95,
   "metadata": {},
   "outputs": [
    {
     "data": {
      "text/html": [
       "<div>\n",
       "<style scoped>\n",
       "    .dataframe tbody tr th:only-of-type {\n",
       "        vertical-align: middle;\n",
       "    }\n",
       "\n",
       "    .dataframe tbody tr th {\n",
       "        vertical-align: top;\n",
       "    }\n",
       "\n",
       "    .dataframe thead th {\n",
       "        text-align: right;\n",
       "    }\n",
       "</style>\n",
       "<table border=\"1\" class=\"dataframe\">\n",
       "  <thead>\n",
       "    <tr style=\"text-align: right;\">\n",
       "      <th></th>\n",
       "      <th>id</th>\n",
       "      <th>link</th>\n",
       "      <th>name</th>\n",
       "      <th>price</th>\n",
       "      <th>shop_name</th>\n",
       "      <th>append</th>\n",
       "      <th>bad</th>\n",
       "      <th>count</th>\n",
       "      <th>good</th>\n",
       "      <th>images</th>\n",
       "      <th>...</th>\n",
       "      <th>省力方便</th>\n",
       "      <th>过滤效果佳</th>\n",
       "      <th>口碑很好</th>\n",
       "      <th>即插即用</th>\n",
       "      <th>客厅适用</th>\n",
       "      <th>安装服务好</th>\n",
       "      <th>安装快速</th>\n",
       "      <th>振动柔和</th>\n",
       "      <th>能效节能</th>\n",
       "      <th>一物多用</th>\n",
       "    </tr>\n",
       "  </thead>\n",
       "  <tbody>\n",
       "    <tr>\n",
       "      <th>120</th>\n",
       "      <td>id</td>\n",
       "      <td>link</td>\n",
       "      <td>name</td>\n",
       "      <td>0.0</td>\n",
       "      <td>shop_name</td>\n",
       "      <td>0</td>\n",
       "      <td></td>\n",
       "      <td>0</td>\n",
       "      <td></td>\n",
       "      <td></td>\n",
       "      <td>...</td>\n",
       "      <td>0</td>\n",
       "      <td>0</td>\n",
       "      <td>0</td>\n",
       "      <td>0</td>\n",
       "      <td>0</td>\n",
       "      <td>0</td>\n",
       "      <td>0</td>\n",
       "      <td>0</td>\n",
       "      <td>0</td>\n",
       "      <td>0</td>\n",
       "    </tr>\n",
       "    <tr>\n",
       "      <th>319</th>\n",
       "      <td>100018834988</td>\n",
       "      <td>https://item.jd.com/100018834988.html#comment</td>\n",
       "      <td>（GREE）7叶柔和大风量电风扇/家用低噪落地扇电扇台扇/高颜值节能风扇 （FS-3015h7）</td>\n",
       "      <td>126.0</td>\n",
       "      <td>格力·TOSOT生活电器京东自营旗舰店</td>\n",
       "      <td>0</td>\n",
       "      <td></td>\n",
       "      <td>0</td>\n",
       "      <td></td>\n",
       "      <td></td>\n",
       "      <td>...</td>\n",
       "      <td>0</td>\n",
       "      <td>0</td>\n",
       "      <td>0</td>\n",
       "      <td>0</td>\n",
       "      <td>0</td>\n",
       "      <td>0</td>\n",
       "      <td>0</td>\n",
       "      <td>0</td>\n",
       "      <td>0</td>\n",
       "      <td>0</td>\n",
       "    </tr>\n",
       "    <tr>\n",
       "      <th>402</th>\n",
       "      <td>100018834988</td>\n",
       "      <td>https://item.jd.com/100018834988.html#comment</td>\n",
       "      <td>（GREE）7叶柔和大风量电风扇/家用低噪落地扇电扇台扇/高颜值节能风扇 （FS-3015h7）</td>\n",
       "      <td>126.0</td>\n",
       "      <td>格力·TOSOT生活电器京东自营旗舰店</td>\n",
       "      <td>0</td>\n",
       "      <td></td>\n",
       "      <td>0</td>\n",
       "      <td></td>\n",
       "      <td></td>\n",
       "      <td>...</td>\n",
       "      <td>0</td>\n",
       "      <td>0</td>\n",
       "      <td>0</td>\n",
       "      <td>0</td>\n",
       "      <td>0</td>\n",
       "      <td>0</td>\n",
       "      <td>0</td>\n",
       "      <td>0</td>\n",
       "      <td>0</td>\n",
       "      <td>0</td>\n",
       "    </tr>\n",
       "    <tr>\n",
       "      <th>366</th>\n",
       "      <td>100018834988</td>\n",
       "      <td>https://item.jd.com/100018834988.html#comment</td>\n",
       "      <td>（GREE）7叶柔和大风量电风扇/家用低噪落地扇电扇台扇/高颜值节能风扇 （FS-3015h7）</td>\n",
       "      <td>126.0</td>\n",
       "      <td>格力·TOSOT生活电器京东自营旗舰店</td>\n",
       "      <td>0</td>\n",
       "      <td></td>\n",
       "      <td>0</td>\n",
       "      <td></td>\n",
       "      <td></td>\n",
       "      <td>...</td>\n",
       "      <td>0</td>\n",
       "      <td>0</td>\n",
       "      <td>0</td>\n",
       "      <td>0</td>\n",
       "      <td>0</td>\n",
       "      <td>0</td>\n",
       "      <td>0</td>\n",
       "      <td>0</td>\n",
       "      <td>0</td>\n",
       "      <td>0</td>\n",
       "    </tr>\n",
       "    <tr>\n",
       "      <th>27</th>\n",
       "      <td>100018834988</td>\n",
       "      <td>https://item.jd.com/100018834988.html#comment</td>\n",
       "      <td>（GREE）7叶柔和大风量电风扇/家用低噪落地扇电扇台扇/高颜值节能风扇 （FS-3015h7）</td>\n",
       "      <td>129.0</td>\n",
       "      <td>格力·TOSOT生活电器京东自营旗舰店</td>\n",
       "      <td>2500</td>\n",
       "      <td>2900</td>\n",
       "      <td>1000000</td>\n",
       "      <td>180000</td>\n",
       "      <td>500</td>\n",
       "      <td>...</td>\n",
       "      <td>0</td>\n",
       "      <td>0</td>\n",
       "      <td>0</td>\n",
       "      <td>0</td>\n",
       "      <td>0</td>\n",
       "      <td>0</td>\n",
       "      <td>0</td>\n",
       "      <td>0</td>\n",
       "      <td>0</td>\n",
       "      <td>0</td>\n",
       "    </tr>\n",
       "    <tr>\n",
       "      <th>...</th>\n",
       "      <td>...</td>\n",
       "      <td>...</td>\n",
       "      <td>...</td>\n",
       "      <td>...</td>\n",
       "      <td>...</td>\n",
       "      <td>...</td>\n",
       "      <td>...</td>\n",
       "      <td>...</td>\n",
       "      <td>...</td>\n",
       "      <td>...</td>\n",
       "      <td>...</td>\n",
       "      <td>...</td>\n",
       "      <td>...</td>\n",
       "      <td>...</td>\n",
       "      <td>...</td>\n",
       "      <td>...</td>\n",
       "      <td>...</td>\n",
       "      <td>...</td>\n",
       "      <td>...</td>\n",
       "      <td>...</td>\n",
       "      <td>...</td>\n",
       "    </tr>\n",
       "    <tr>\n",
       "      <th>138</th>\n",
       "      <td>100021510646</td>\n",
       "      <td>https://item.jd.com/100021510646.html#comment</td>\n",
       "      <td>（GREE）3匹 京淳 高效除甲醛 空调空气净化器一体机 客厅空调立式空调柜机KFR-72L...</td>\n",
       "      <td>11399.0</td>\n",
       "      <td>格力京东自营旗舰店</td>\n",
       "      <td>0</td>\n",
       "      <td></td>\n",
       "      <td>0</td>\n",
       "      <td></td>\n",
       "      <td></td>\n",
       "      <td>...</td>\n",
       "      <td>0</td>\n",
       "      <td>0</td>\n",
       "      <td>0</td>\n",
       "      <td>0</td>\n",
       "      <td>0</td>\n",
       "      <td>0</td>\n",
       "      <td>0</td>\n",
       "      <td>0</td>\n",
       "      <td>0</td>\n",
       "      <td>0</td>\n",
       "    </tr>\n",
       "    <tr>\n",
       "      <th>328</th>\n",
       "      <td>10053010235096</td>\n",
       "      <td>https://item.jd.com/10053010235096.html#comment</td>\n",
       "      <td>京淳变频冷暖3匹1级能效柜机除甲醛空调 KFR-72LW/NhDj1BGj(碧玺蓝)</td>\n",
       "      <td>11399.0</td>\n",
       "      <td>格力董明珠店</td>\n",
       "      <td>0</td>\n",
       "      <td></td>\n",
       "      <td>0</td>\n",
       "      <td></td>\n",
       "      <td></td>\n",
       "      <td>...</td>\n",
       "      <td>0</td>\n",
       "      <td>0</td>\n",
       "      <td>0</td>\n",
       "      <td>0</td>\n",
       "      <td>0</td>\n",
       "      <td>0</td>\n",
       "      <td>0</td>\n",
       "      <td>0</td>\n",
       "      <td>0</td>\n",
       "      <td>0</td>\n",
       "    </tr>\n",
       "    <tr>\n",
       "      <th>118</th>\n",
       "      <td>100020575594</td>\n",
       "      <td>https://item.jd.com/100020575594.html#comment</td>\n",
       "      <td>（GREE）3匹 云铂 紫外线除菌 新1级 自清洁 智能 客厅空调立式空调柜机KFR-72L...</td>\n",
       "      <td>11399.0</td>\n",
       "      <td>格力京东自营旗舰店</td>\n",
       "      <td>0</td>\n",
       "      <td></td>\n",
       "      <td>0</td>\n",
       "      <td></td>\n",
       "      <td></td>\n",
       "      <td>...</td>\n",
       "      <td>0</td>\n",
       "      <td>0</td>\n",
       "      <td>0</td>\n",
       "      <td>0</td>\n",
       "      <td>0</td>\n",
       "      <td>0</td>\n",
       "      <td>0</td>\n",
       "      <td>0</td>\n",
       "      <td>0</td>\n",
       "      <td>0</td>\n",
       "    </tr>\n",
       "    <tr>\n",
       "      <th>28</th>\n",
       "      <td>100021569442</td>\n",
       "      <td>https://item.jd.com/100021569442.html#comment</td>\n",
       "      <td>（GREE）新1级能效 空调套装 (大1匹云恬+大1匹云佳+1.5匹云佳+3匹云逸）</td>\n",
       "      <td>16995.0</td>\n",
       "      <td>格力京东自营旗舰店</td>\n",
       "      <td>13000</td>\n",
       "      <td>3900</td>\n",
       "      <td>500000</td>\n",
       "      <td>360000</td>\n",
       "      <td>500</td>\n",
       "      <td>...</td>\n",
       "      <td>0</td>\n",
       "      <td>0</td>\n",
       "      <td>0</td>\n",
       "      <td>0</td>\n",
       "      <td>0</td>\n",
       "      <td>0</td>\n",
       "      <td>0</td>\n",
       "      <td>0</td>\n",
       "      <td>0</td>\n",
       "      <td>0</td>\n",
       "    </tr>\n",
       "    <tr>\n",
       "      <th>316</th>\n",
       "      <td>100019741014</td>\n",
       "      <td>https://item.jd.com/100019741014.html#comment</td>\n",
       "      <td>（GREE）新风空调 3匹 臻新风 紫外线杀菌 客厅空调立式空调柜机KFR-72LW/(72...</td>\n",
       "      <td>17399.0</td>\n",
       "      <td>格力京东自营旗舰店</td>\n",
       "      <td>0</td>\n",
       "      <td></td>\n",
       "      <td>0</td>\n",
       "      <td></td>\n",
       "      <td></td>\n",
       "      <td>...</td>\n",
       "      <td>0</td>\n",
       "      <td>0</td>\n",
       "      <td>0</td>\n",
       "      <td>0</td>\n",
       "      <td>0</td>\n",
       "      <td>0</td>\n",
       "      <td>0</td>\n",
       "      <td>0</td>\n",
       "      <td>0</td>\n",
       "      <td>0</td>\n",
       "    </tr>\n",
       "  </tbody>\n",
       "</table>\n",
       "<p>421 rows × 144 columns</p>\n",
       "</div>"
      ],
      "text/plain": [
       "                 id                                             link  \\\n",
       "120              id                                             link   \n",
       "319    100018834988    https://item.jd.com/100018834988.html#comment   \n",
       "402    100018834988    https://item.jd.com/100018834988.html#comment   \n",
       "366    100018834988    https://item.jd.com/100018834988.html#comment   \n",
       "27     100018834988    https://item.jd.com/100018834988.html#comment   \n",
       "..              ...                                              ...   \n",
       "138    100021510646    https://item.jd.com/100021510646.html#comment   \n",
       "328  10053010235096  https://item.jd.com/10053010235096.html#comment   \n",
       "118    100020575594    https://item.jd.com/100020575594.html#comment   \n",
       "28     100021569442    https://item.jd.com/100021569442.html#comment   \n",
       "316    100019741014    https://item.jd.com/100019741014.html#comment   \n",
       "\n",
       "                                                  name    price  \\\n",
       "120                                               name      0.0   \n",
       "319   （GREE）7叶柔和大风量电风扇/家用低噪落地扇电扇台扇/高颜值节能风扇 （FS-3015h7）    126.0   \n",
       "402   （GREE）7叶柔和大风量电风扇/家用低噪落地扇电扇台扇/高颜值节能风扇 （FS-3015h7）    126.0   \n",
       "366   （GREE）7叶柔和大风量电风扇/家用低噪落地扇电扇台扇/高颜值节能风扇 （FS-3015h7）    126.0   \n",
       "27    （GREE）7叶柔和大风量电风扇/家用低噪落地扇电扇台扇/高颜值节能风扇 （FS-3015h7）    129.0   \n",
       "..                                                 ...      ...   \n",
       "138  （GREE）3匹 京淳 高效除甲醛 空调空气净化器一体机 客厅空调立式空调柜机KFR-72L...  11399.0   \n",
       "328         京淳变频冷暖3匹1级能效柜机除甲醛空调 KFR-72LW/NhDj1BGj(碧玺蓝)  11399.0   \n",
       "118  （GREE）3匹 云铂 紫外线除菌 新1级 自清洁 智能 客厅空调立式空调柜机KFR-72L...  11399.0   \n",
       "28          （GREE）新1级能效 空调套装 (大1匹云恬+大1匹云佳+1.5匹云佳+3匹云逸）  16995.0   \n",
       "316  （GREE）新风空调 3匹 臻新风 紫外线杀菌 客厅空调立式空调柜机KFR-72LW/(72...  17399.0   \n",
       "\n",
       "               shop_name  append   bad    count    good images  ... 省力方便  \\\n",
       "120            shop_name       0              0                 ...    0   \n",
       "319  格力·TOSOT生活电器京东自营旗舰店       0              0                 ...    0   \n",
       "402  格力·TOSOT生活电器京东自营旗舰店       0              0                 ...    0   \n",
       "366  格力·TOSOT生活电器京东自营旗舰店       0              0                 ...    0   \n",
       "27   格力·TOSOT生活电器京东自营旗舰店    2500  2900  1000000  180000    500  ...    0   \n",
       "..                   ...     ...   ...      ...     ...    ...  ...  ...   \n",
       "138            格力京东自营旗舰店       0              0                 ...    0   \n",
       "328               格力董明珠店       0              0                 ...    0   \n",
       "118            格力京东自营旗舰店       0              0                 ...    0   \n",
       "28             格力京东自营旗舰店   13000  3900   500000  360000    500  ...    0   \n",
       "316            格力京东自营旗舰店       0              0                 ...    0   \n",
       "\n",
       "     过滤效果佳 口碑很好 即插即用 客厅适用 安装服务好 安装快速 振动柔和 能效节能 一物多用  \n",
       "120      0    0    0    0     0    0    0    0    0  \n",
       "319      0    0    0    0     0    0    0    0    0  \n",
       "402      0    0    0    0     0    0    0    0    0  \n",
       "366      0    0    0    0     0    0    0    0    0  \n",
       "27       0    0    0    0     0    0    0    0    0  \n",
       "..     ...  ...  ...  ...   ...  ...  ...  ...  ...  \n",
       "138      0    0    0    0     0    0    0    0    0  \n",
       "328      0    0    0    0     0    0    0    0    0  \n",
       "118      0    0    0    0     0    0    0    0    0  \n",
       "28       0    0    0    0     0    0    0    0    0  \n",
       "316      0    0    0    0     0    0    0    0    0  \n",
       "\n",
       "[421 rows x 144 columns]"
      ]
     },
     "execution_count": 95,
     "metadata": {},
     "output_type": "execute_result"
    }
   ],
   "source": [
    "processed_data"
   ]
  },
  {
   "cell_type": "code",
   "execution_count": 86,
   "metadata": {
    "pycharm": {
     "name": "#%%\n"
    }
   },
   "outputs": [
    {
     "data": {
      "text/plain": [
       "<AxesSubplot:xlabel='price', ylabel='count'>"
      ]
     },
     "execution_count": 86,
     "metadata": {},
     "output_type": "execute_result"
    },
    {
     "data": {
      "image/png": "[encoded data removed]",
      "text/plain": [
       "<Figure size 1500x900 with 1 Axes>"
      ]
     },
     "metadata": {
      "needs_background": "light"
     },
     "output_type": "display_data"
    }
   ],
   "source": [
    "plt.figure(figsize=(5,3),dpi=300)\n",
    "sns.lineplot(data=processed_data,x='price',y='count',linewidth=0.5)"
   ]
  },
  {
   "cell_type": "code",
   "execution_count": null,
   "metadata": {
    "pycharm": {
     "name": "#%%\n"
    }
   },
   "outputs": [],
   "source": []
  },
  {
   "cell_type": "code",
   "execution_count": null,
   "metadata": {
    "pycharm": {
     "name": "#%%\n"
    }
   },
   "outputs": [],
   "source": []
  },
  {
   "cell_type": "code",
   "execution_count": null,
   "metadata": {
    "pycharm": {
     "name": "#%%\n"
    }
   },
   "outputs": [],
   "source": []
  },
  {
   "cell_type": "code",
   "execution_count": null,
   "metadata": {
    "pycharm": {
     "name": "#%%\n"
    }
   },
   "outputs": [],
   "source": []
  },
  {
   "cell_type": "code",
   "execution_count": null,
   "metadata": {
    "pycharm": {
     "name": "#%%\n"
    }
   },
   "outputs": [],
   "source": []
  },
  {
   "cell_type": "code",
   "execution_count": null,
   "metadata": {
    "pycharm": {
     "name": "#%%\n"
    }
   },
   "outputs": [],
   "source": []
  }
 ],
 "metadata": {
  "kernelspec": {
   "display_name": "Python 3",
   "language": "python",
   "name": "python3"
  },
  "language_info": {
   "codemirror_mode": {
    "name": "ipython",
    "version": 3
   },
   "file_extension": ".py",
   "mimetype": "text/x-python",
   "name": "python",
   "nbconvert_exporter": "python",
   "pygments_lexer": "ipython3",
   "version": "3.10.0"
  },
  "toc": {
   "base_numbering": 1,
   "nav_menu": {},
   "number_sections": true,
   "sideBar": true,
   "skip_h1_title": false,
   "title_cell": "Table of Contents",
   "title_sidebar": "Contents",
   "toc_cell": false,
   "toc_position": {},
   "toc_section_display": true,
   "toc_window_display": false
  }
 },
 "nbformat": 4,
 "nbformat_minor": 1
}